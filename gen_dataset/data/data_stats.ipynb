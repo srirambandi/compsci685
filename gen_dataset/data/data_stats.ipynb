{
 "cells": [
  {
   "cell_type": "code",
   "execution_count": 1,
   "id": "4904ce8e",
   "metadata": {
    "vscode": {
     "languageId": "shellscript"
    }
   },
   "outputs": [
    {
     "name": "stdout",
     "output_type": "stream",
     "text": [
      "Requirement already satisfied: tqdm in /usr/local/lib/python3.10/site-packages (4.67.1)\n",
      "\n",
      "\u001b[1m[\u001b[0m\u001b[34;49mnotice\u001b[0m\u001b[1;39;49m]\u001b[0m\u001b[39;49m A new release of pip is available: \u001b[0m\u001b[31;49m24.2\u001b[0m\u001b[39;49m -> \u001b[0m\u001b[32;49m25.1.1\u001b[0m\n",
      "\u001b[1m[\u001b[0m\u001b[34;49mnotice\u001b[0m\u001b[1;39;49m]\u001b[0m\u001b[39;49m To update, run: \u001b[0m\u001b[32;49mpython3.10 -m pip install --upgrade pip\u001b[0m\n",
      "Note: you may need to restart the kernel to use updated packages.\n"
     ]
    }
   ],
   "source": [
    "pip install tqdm"
   ]
  },
  {
   "cell_type": "code",
   "execution_count": 2,
   "id": "573357fb",
   "metadata": {},
   "outputs": [
    {
     "name": "stderr",
     "output_type": "stream",
     "text": [
      "Processing lines: 100%|██████████| 683536/683536 [00:03<00:00, 206296.32it/s]"
     ]
    },
    {
     "name": "stdout",
     "output_type": "stream",
     "text": [
      "token dict: {\n",
      "  \"add\": 2196459,\n",
      "  \"mul\": 2676318,\n",
      "  \"INT-\": 1163047,\n",
      "  \"2\": 877693,\n",
      "  \"Y\": 469138,\n",
      "  \"x\": 1893295,\n",
      "  \"Y'\": 731671,\n",
      "  \"a8\": 683792,\n",
      "  \"pow\": 532528,\n",
      "  \"INT+\": 1899959,\n",
      "  \"3\": 416770,\n",
      "  \"1\": 974956,\n",
      "  \"4\": 373808,\n",
      "  \"ln\": 254401,\n",
      "  \"exp\": 294024,\n",
      "  \"sin\": 216166,\n",
      "  \"cos\": 227208,\n",
      "  \"sqrt\": 164897,\n",
      "  \"tan\": 134173,\n",
      "  \"5\": 365705,\n",
      "  \"6\": 132617,\n",
      "  \"div\": 103891,\n",
      "  \"8\": 85422,\n",
      "  \"acos\": 38519,\n",
      "  \"sinh\": 27826,\n",
      "  \"cosh\": 30871,\n",
      "  \"asinh\": 45049,\n",
      "  \"asin\": 43009,\n",
      "  \"acosh\": 43578,\n",
      "  \"atanh\": 36033,\n",
      "  \"atan\": 38988,\n",
      "  \"tanh\": 11742,\n",
      "  \"0\": 79757,\n",
      "  \"abs\": 8754,\n",
      "  \"sign\": 5527,\n",
      "  \"9\": 52125,\n",
      "  \"7\": 49635,\n",
      "  \"E\": 26619,\n",
      "  \"pi\": 8747,\n",
      "  \"cot\": 141,\n",
      "  \"acot\": 14,\n",
      "  \"coth\": 1\n",
      "}\n"
     ]
    },
    {
     "name": "stderr",
     "output_type": "stream",
     "text": [
      "\n"
     ]
    }
   ],
   "source": [
    "import json\n",
    "from tqdm import tqdm\n",
    "\n",
    "tokens = {}\n",
    "total_lines = sum(1 for _ in open(\"train16.txt\", 'r', encoding='utf-8'))\n",
    "with open(\"train16.txt\", \"r\", encoding=\"utf-8\") as fin:\n",
    "    for line in tqdm(fin, total=total_lines, desc=\"Processing lines\"):\n",
    "        line = line.strip()\n",
    "        if not line:\n",
    "            continue\n",
    "        for token in line.split():\n",
    "            if token not in tokens:\n",
    "                tokens[token] = 0\n",
    "            tokens[token] += 1\n",
    "\n",
    "print(\"token dict:\", json.dumps(tokens, indent=2))"
   ]
  },
  {
   "cell_type": "code",
   "execution_count": 4,
   "id": "a6c22f0f",
   "metadata": {},
   "outputs": [
    {
     "name": "stderr",
     "output_type": "stream",
     "text": [
      "Processing lines: 100%|██████████| 683536/683536 [00:01<00:00, 550310.75it/s]\n",
      "Processing lines: 100%|██████████| 683446/683446 [00:03<00:00, 207478.23it/s]"
     ]
    },
    {
     "name": "stdout",
     "output_type": "stream",
     "text": [
      "token dict after cleaning: {\n",
      "  \"add\": 2196187,\n",
      "  \"mul\": 2676039,\n",
      "  \"INT-\": 1162871,\n",
      "  \"2\": 877565,\n",
      "  \"y\": 469067,\n",
      "  \"x\": 1893113,\n",
      "  \"y'\": 731574,\n",
      "  \"c\": 683702,\n",
      "  \"pow\": 532449,\n",
      "  \"INT+\": 1899762,\n",
      "  \"3\": 416734,\n",
      "  \"1\": 974800,\n",
      "  \"4\": 373781,\n",
      "  \"log\": 254389,\n",
      "  \"exp\": 294014,\n",
      "  \"sin\": 216147,\n",
      "  \"cos\": 227196,\n",
      "  \"sqrt\": 164894,\n",
      "  \"tan\": 134167,\n",
      "  \"5\": 365681,\n",
      "  \"6\": 132617,\n",
      "  \"div\": 103882,\n",
      "  \"8\": 85421,\n",
      "  \"acos\": 38518,\n",
      "  \"sinh\": 27824,\n",
      "  \"cosh\": 30866,\n",
      "  \"asinh\": 45046,\n",
      "  \"asin\": 43008,\n",
      "  \"acosh\": 43576,\n",
      "  \"atanh\": 36033,\n",
      "  \"atan\": 38983,\n",
      "  \"tanh\": 11742,\n",
      "  \"0\": 79755,\n",
      "  \"abs\": 8754,\n",
      "  \"sign\": 5527,\n",
      "  \"9\": 52125,\n",
      "  \"7\": 49633,\n",
      "  \"E\": 26619,\n",
      "  \"pi\": 8741\n",
      "}\n"
     ]
    },
    {
     "name": "stderr",
     "output_type": "stream",
     "text": [
      "\n"
     ]
    }
   ],
   "source": [
    "# remove any lines with \"cot\", \"acot\", \"coth\" in them as they are low in frequency\n",
    "# this will brings us to a neat 42 tokens including the SPECIAL tokens at tokenisation time!\n",
    "total_lines = sum(1 for _ in open(\"train16.txt\", 'r', encoding='utf-8'))\n",
    "with open(\"train16.txt\", \"r\", encoding=\"utf-8\") as fin:\n",
    "    with open(\"train16_clean.txt\", \"w\", encoding=\"utf-8\") as fout:\n",
    "        for line in tqdm(fin, total=total_lines, desc=\"Processing lines\"):\n",
    "            line = line.strip()\n",
    "            if not line:\n",
    "                continue\n",
    "            if \"cot\" in line or \"acot\" in line or \"coth\" in line:\n",
    "                continue\n",
    "            # rename \"a8\" to \"c\", \"ln\" to \"log\", \"Y\" to \"y\", \"Y'\" to \"y'\" cause those look good\n",
    "            line = line.replace(\"a8\", \"c\").replace(\"ln\", \"log\").replace(\"Y\", \"y\").replace(\"Y'\", \"y'\")\n",
    "            fout.write(line + \"\\n\")\n",
    "\n",
    "tokens = {}\n",
    "total_lines = sum(1 for _ in open(\"train16_clean.txt\", 'r', encoding='utf-8'))\n",
    "with open(\"train16_clean.txt\", \"r\", encoding=\"utf-8\") as fin:\n",
    "    for line in tqdm(fin, total=total_lines, desc=\"Processing lines\"):\n",
    "        line = line.strip()\n",
    "        if not line:\n",
    "            continue\n",
    "        for token in line.split():\n",
    "            if token not in tokens:\n",
    "                tokens[token] = 0\n",
    "            tokens[token] += 1\n",
    "print(\"token dict after cleaning:\", json.dumps(tokens, indent=2))"
   ]
  }
 ],
 "metadata": {
  "kernelspec": {
   "display_name": "Python 3",
   "language": "python",
   "name": "python3"
  },
  "language_info": {
   "codemirror_mode": {
    "name": "ipython",
    "version": 3
   },
   "file_extension": ".py",
   "mimetype": "text/x-python",
   "name": "python",
   "nbconvert_exporter": "python",
   "pygments_lexer": "ipython3",
   "version": "3.10.15"
  }
 },
 "nbformat": 4,
 "nbformat_minor": 5
}
